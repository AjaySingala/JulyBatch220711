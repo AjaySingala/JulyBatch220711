{
 "cells": [
  {
   "cell_type": "code",
   "execution_count": null,
   "id": "159d37d1",
   "metadata": {},
   "outputs": [],
   "source": [
    "import numpy"
   ]
  },
  {
   "cell_type": "code",
   "execution_count": 1,
   "id": "30e5f3fc",
   "metadata": {},
   "outputs": [
    {
     "name": "stdout",
     "output_type": "stream",
     "text": [
      "[1 2 3 4 5]\n"
     ]
    }
   ],
   "source": [
    "import numpy \n",
    "arr = numpy.array([1,2,3,4,5])\n",
    "\n",
    "print(arr)\n"
   ]
  },
  {
   "cell_type": "code",
   "execution_count": 2,
   "id": "b41c3afc",
   "metadata": {},
   "outputs": [
    {
     "name": "stdout",
     "output_type": "stream",
     "text": [
      "[1 2 3 4 5]\n"
     ]
    }
   ],
   "source": [
    "import numpy as np \n",
    "arr = np.array([1,2,3,4,5])\n",
    "\n",
    "print(arr)"
   ]
  },
  {
   "cell_type": "code",
   "execution_count": 3,
   "id": "2c207959",
   "metadata": {},
   "outputs": [
    {
     "name": "stdout",
     "output_type": "stream",
     "text": [
      "1.20.1\n"
     ]
    }
   ],
   "source": [
    "print(np.__version__)"
   ]
  },
  {
   "cell_type": "code",
   "execution_count": 4,
   "id": "c4298922",
   "metadata": {},
   "outputs": [
    {
     "name": "stdout",
     "output_type": "stream",
     "text": [
      "<class 'numpy.ndarray'>\n"
     ]
    }
   ],
   "source": [
    "print(type(arr))"
   ]
  },
  {
   "cell_type": "code",
   "execution_count": 6,
   "id": "05114230",
   "metadata": {},
   "outputs": [
    {
     "name": "stdout",
     "output_type": "stream",
     "text": [
      "[[[[[6.95248389e-310 0.00000000e+000 0.00000000e+000 0.00000000e+000\n",
      "     0.00000000e+000]\n",
      "    [4.94065646e-324 0.00000000e+000 0.00000000e+000 0.00000000e+000\n",
      "     0.00000000e+000]\n",
      "    [0.00000000e+000 0.00000000e+000 0.00000000e+000 0.00000000e+000\n",
      "     0.00000000e+000]\n",
      "    [0.00000000e+000 0.00000000e+000 6.95248398e-310 0.00000000e+000\n",
      "     0.00000000e+000]]\n",
      "\n",
      "   [[0.00000000e+000 0.00000000e+000 0.00000000e+000 1.42173718e-312\n",
      "     0.00000000e+000]\n",
      "    [0.00000000e+000 0.00000000e+000 0.00000000e+000 0.00000000e+000\n",
      "     0.00000000e+000]\n",
      "    [0.00000000e+000 0.00000000e+000 0.00000000e+000 0.00000000e+000\n",
      "     0.00000000e+000]\n",
      "    [0.00000000e+000 0.00000000e+000 0.00000000e+000 0.00000000e+000\n",
      "     0.00000000e+000]]\n",
      "\n",
      "   [[0.00000000e+000 0.00000000e+000 0.00000000e+000 0.00000000e+000\n",
      "     0.00000000e+000]\n",
      "    [0.00000000e+000 0.00000000e+000 0.00000000e+000 0.00000000e+000\n",
      "     0.00000000e+000]\n",
      "    [0.00000000e+000 0.00000000e+000 0.00000000e+000 0.00000000e+000\n",
      "     0.00000000e+000]\n",
      "    [0.00000000e+000 2.16939877e-317 0.00000000e+000 0.00000000e+000\n",
      "     0.00000000e+000]]]\n",
      "\n",
      "\n",
      "  [[[0.00000000e+000 0.00000000e+000 0.00000000e+000 0.00000000e+000\n",
      "     0.00000000e+000]\n",
      "    [0.00000000e+000 0.00000000e+000 0.00000000e+000 0.00000000e+000\n",
      "     0.00000000e+000]\n",
      "    [0.00000000e+000 0.00000000e+000 0.00000000e+000 0.00000000e+000\n",
      "     0.00000000e+000]\n",
      "    [0.00000000e+000 0.00000000e+000 0.00000000e+000 0.00000000e+000\n",
      "     0.00000000e+000]]\n",
      "\n",
      "   [[0.00000000e+000 0.00000000e+000 0.00000000e+000 0.00000000e+000\n",
      "     0.00000000e+000]\n",
      "    [0.00000000e+000 0.00000000e+000 0.00000000e+000 0.00000000e+000\n",
      "     0.00000000e+000]\n",
      "    [0.00000000e+000 0.00000000e+000 0.00000000e+000 0.00000000e+000\n",
      "     0.00000000e+000]\n",
      "    [0.00000000e+000 0.00000000e+000 0.00000000e+000 0.00000000e+000\n",
      "     0.00000000e+000]]\n",
      "\n",
      "   [[0.00000000e+000 0.00000000e+000 0.00000000e+000 0.00000000e+000\n",
      "     0.00000000e+000]\n",
      "    [0.00000000e+000 0.00000000e+000 0.00000000e+000 0.00000000e+000\n",
      "     0.00000000e+000]\n",
      "    [0.00000000e+000 0.00000000e+000 0.00000000e+000 0.00000000e+000\n",
      "     0.00000000e+000]\n",
      "    [0.00000000e+000 0.00000000e+000 4.94065646e-324 0.00000000e+000\n",
      "     0.00000000e+000]]]]]\n"
     ]
    }
   ],
   "source": [
    "tmp = np.ndarray([1,2,3,4,5])\n",
    "print(tmp)"
   ]
  },
  {
   "cell_type": "code",
   "execution_count": 7,
   "id": "7a3a697a",
   "metadata": {},
   "outputs": [
    {
     "name": "stdout",
     "output_type": "stream",
     "text": [
      "36\n"
     ]
    }
   ],
   "source": [
    "# dimensions in Arrays.\n",
    "# 0-D array (Scalar).\n",
    "import numpy as np\n",
    "arr = np.array(36)\n",
    "\n",
    "print(arr)"
   ]
  },
  {
   "cell_type": "code",
   "execution_count": 8,
   "id": "072ec5a7",
   "metadata": {},
   "outputs": [
    {
     "name": "stdout",
     "output_type": "stream",
     "text": [
      "[1 2 3 4 5]\n"
     ]
    }
   ],
   "source": [
    "# 1-D array.\n",
    "import numpy as np\n",
    "arr = np.array([1,2,3,4,5])\n",
    "\n",
    "print(arr)"
   ]
  },
  {
   "cell_type": "code",
   "execution_count": 9,
   "id": "0b9bf0f5",
   "metadata": {},
   "outputs": [
    {
     "name": "stdout",
     "output_type": "stream",
     "text": [
      "[[1 2 3]\n",
      " [4 5 6]]\n"
     ]
    }
   ],
   "source": [
    "# 2-D array.\n",
    "import numpy as np\n",
    "arr = np.array([ [1,2,3], [4,5,6] ] )\n",
    "\n",
    "print(arr)"
   ]
  },
  {
   "cell_type": "code",
   "execution_count": 10,
   "id": "c28ae9b3",
   "metadata": {},
   "outputs": [
    {
     "name": "stdout",
     "output_type": "stream",
     "text": [
      "[[[ 1  2  3]\n",
      "  [ 4  5  6]\n",
      "  [ 7  8  9]\n",
      "  [10 11 12]]]\n"
     ]
    }
   ],
   "source": [
    "# 3-D array.\n",
    "import numpy as np\n",
    "arr = np.array([ [ [1,2,3], [4,5,6], [7,8,9], [10,11,12] ] ])\n",
    "\n",
    "print(arr)"
   ]
  },
  {
   "cell_type": "code",
   "execution_count": 11,
   "id": "c1a83bb9",
   "metadata": {},
   "outputs": [
    {
     "name": "stdout",
     "output_type": "stream",
     "text": [
      "[[ 1  2  3]\n",
      " [ 4  5  6]\n",
      " [ 7  8  9]\n",
      " [10 11 12]]\n"
     ]
    }
   ],
   "source": [
    "print(arr[0])"
   ]
  },
  {
   "cell_type": "code",
   "execution_count": 12,
   "id": "893002f5",
   "metadata": {},
   "outputs": [
    {
     "name": "stdout",
     "output_type": "stream",
     "text": [
      "[1 2 3]\n"
     ]
    }
   ],
   "source": [
    "print(arr[0][0])"
   ]
  },
  {
   "cell_type": "code",
   "execution_count": 13,
   "id": "04f5bc81",
   "metadata": {},
   "outputs": [
    {
     "name": "stdout",
     "output_type": "stream",
     "text": [
      "1\n"
     ]
    }
   ],
   "source": [
    "print(arr[0][0][0])"
   ]
  },
  {
   "cell_type": "code",
   "execution_count": 14,
   "id": "1ab1781a",
   "metadata": {},
   "outputs": [
    {
     "name": "stdout",
     "output_type": "stream",
     "text": [
      "[4 5 6]\n"
     ]
    }
   ],
   "source": [
    "print(arr[0][1])"
   ]
  },
  {
   "cell_type": "code",
   "execution_count": 15,
   "id": "7ac05ed5",
   "metadata": {},
   "outputs": [
    {
     "name": "stdout",
     "output_type": "stream",
     "text": [
      "[7 8 9]\n"
     ]
    }
   ],
   "source": [
    "print(arr[0][2])"
   ]
  },
  {
   "cell_type": "code",
   "execution_count": 16,
   "id": "b24cea40",
   "metadata": {},
   "outputs": [
    {
     "name": "stdout",
     "output_type": "stream",
     "text": [
      "[10 11 12]\n"
     ]
    }
   ],
   "source": [
    "print(arr[0][3])"
   ]
  },
  {
   "cell_type": "code",
   "execution_count": 21,
   "id": "888e68bd",
   "metadata": {},
   "outputs": [
    {
     "name": "stdout",
     "output_type": "stream",
     "text": [
      "[[[ 1  2  3]\n",
      "  [ 4  5  6]\n",
      "  [ 7  8  9]\n",
      "  [10 11 12]]]\n"
     ]
    }
   ],
   "source": [
    "print(arr)"
   ]
  },
  {
   "cell_type": "code",
   "execution_count": 24,
   "id": "39683fbd",
   "metadata": {},
   "outputs": [
    {
     "name": "stdout",
     "output_type": "stream",
     "text": [
      "12\n",
      "12\n"
     ]
    }
   ],
   "source": [
    "print(arr[0][3][2])\n",
    "print(arr[0,3,2])"
   ]
  },
  {
   "cell_type": "code",
   "execution_count": 19,
   "id": "f5c638e6",
   "metadata": {},
   "outputs": [],
   "source": [
    "tmp = np.array([1,2, \"abc\", \"def\"])"
   ]
  },
  {
   "cell_type": "code",
   "execution_count": 20,
   "id": "35cab353",
   "metadata": {},
   "outputs": [
    {
     "name": "stdout",
     "output_type": "stream",
     "text": [
      "['1' '2' 'abc' 'def']\n"
     ]
    }
   ],
   "source": [
    "print(tmp)"
   ]
  },
  {
   "cell_type": "code",
   "execution_count": 22,
   "id": "fb9f324f",
   "metadata": {},
   "outputs": [
    {
     "name": "stdout",
     "output_type": "stream",
     "text": [
      "3\n"
     ]
    }
   ],
   "source": [
    "print(arr.ndim)"
   ]
  },
  {
   "cell_type": "code",
   "execution_count": 23,
   "id": "72dc72a5",
   "metadata": {},
   "outputs": [
    {
     "name": "stdout",
     "output_type": "stream",
     "text": [
      "0\n",
      "1\n",
      "2\n",
      "3\n"
     ]
    }
   ],
   "source": [
    "a = np.array(57)\n",
    "b = np.array([1,2,3,4,5])\n",
    "c = np.array([ [1,2,3], [4,5,6]])\n",
    "d = np.array([[ [1,2,3], [4,5,6]]])\n",
    "\n",
    "print(a.ndim)\n",
    "print(b.ndim)\n",
    "print(c.ndim)\n",
    "print(d.ndim)\n"
   ]
  },
  {
   "cell_type": "code",
   "execution_count": 25,
   "id": "624e14c1",
   "metadata": {},
   "outputs": [
    {
     "name": "stdout",
     "output_type": "stream",
     "text": [
      "[[[[[1 2 3 4]]]]]\n",
      "5\n"
     ]
    }
   ],
   "source": [
    "import numpy as np\n",
    "arr = np.array([1,2,3,4], ndmin=5)\n",
    "\n",
    "print(arr)\n",
    "print(arr.ndim)"
   ]
  },
  {
   "cell_type": "code",
   "execution_count": 26,
   "id": "fdfe89c2",
   "metadata": {},
   "outputs": [
    {
     "name": "stdout",
     "output_type": "stream",
     "text": [
      "7\n"
     ]
    }
   ],
   "source": [
    "arr = np.array([1,2,3,4])\n",
    "\n",
    "print(arr[2] + arr[3])"
   ]
  },
  {
   "cell_type": "code",
   "execution_count": 29,
   "id": "9585c9da",
   "metadata": {},
   "outputs": [
    {
     "name": "stdout",
     "output_type": "stream",
     "text": [
      "[[[[[1 2 3]\n",
      "    [4 5 6]]]]]\n",
      "5\n"
     ]
    }
   ],
   "source": [
    "import numpy as np\n",
    "arr2 = np.array([[1,2,3], [4,5,6]], ndmin=5)\n",
    "print(arr2)\n",
    "print(arr2.ndim)"
   ]
  },
  {
   "cell_type": "code",
   "execution_count": 28,
   "id": "beec5e1e",
   "metadata": {},
   "outputs": [
    {
     "name": "stdout",
     "output_type": "stream",
     "text": [
      "[[[1 2 3]\n",
      "  [4 5 6]\n",
      "  [7 8 9]]]\n",
      "[[1 2 3]\n",
      " [4 5 6]\n",
      " [7 8 9]]\n",
      "[4 5 6]\n",
      "6\n"
     ]
    }
   ],
   "source": [
    "arr = np.array([[ [1,2,3], [4,5,6], [7,8,9]]])\n",
    "print(arr)\n",
    "print(arr[0])\n",
    "print(arr[0][1])\n",
    "print(arr[0][1][2])\n"
   ]
  },
  {
   "cell_type": "code",
   "execution_count": 31,
   "id": "b416eb47",
   "metadata": {},
   "outputs": [
    {
     "name": "stdout",
     "output_type": "stream",
     "text": [
      "2\n",
      "10\n",
      "8\n",
      "3\n"
     ]
    }
   ],
   "source": [
    "arr = np.array([[1,2,3,4,5], [6,7,8,9,10] ])\n",
    "print(arr.ndim)\n",
    "print(arr[1,-1])\n",
    "print(arr[1,-3])\n",
    "print(arr[0,-3])\n"
   ]
  },
  {
   "cell_type": "code",
   "execution_count": 32,
   "id": "65d79aff",
   "metadata": {},
   "outputs": [
    {
     "name": "stdout",
     "output_type": "stream",
     "text": [
      "[2 3 4 5]\n"
     ]
    }
   ],
   "source": [
    "arr = np.array([1,2,3,4,5,6,7,8,9,10])\n",
    "print(arr[1:5])"
   ]
  },
  {
   "cell_type": "code",
   "execution_count": 33,
   "id": "051cbcc1",
   "metadata": {},
   "outputs": [
    {
     "name": "stdout",
     "output_type": "stream",
     "text": [
      "[2 3 4 5 6 7 8]\n",
      "[2 4 6 8]\n",
      "[1 3 5 7]\n"
     ]
    }
   ],
   "source": [
    "print(arr[1:8])\n",
    "print(arr[1:8:2])\n",
    "print(arr[0:8:2])"
   ]
  },
  {
   "cell_type": "code",
   "execution_count": 34,
   "id": "27cb9308",
   "metadata": {},
   "outputs": [
    {
     "name": "stdout",
     "output_type": "stream",
     "text": [
      "[2 5 8]\n"
     ]
    }
   ],
   "source": [
    "print(arr[1:8:3])"
   ]
  },
  {
   "cell_type": "code",
   "execution_count": 35,
   "id": "3372fb3b",
   "metadata": {},
   "outputs": [
    {
     "name": "stdout",
     "output_type": "stream",
     "text": [
      "[ 5  6  7  8  9 10]\n"
     ]
    }
   ],
   "source": [
    "print(arr[4:])"
   ]
  },
  {
   "cell_type": "code",
   "execution_count": 36,
   "id": "8a287bb0",
   "metadata": {},
   "outputs": [
    {
     "name": "stdout",
     "output_type": "stream",
     "text": [
      "[1 2 3 4]\n"
     ]
    }
   ],
   "source": [
    "print(arr[:4])"
   ]
  },
  {
   "cell_type": "code",
   "execution_count": 37,
   "id": "242f3944",
   "metadata": {},
   "outputs": [
    {
     "name": "stdout",
     "output_type": "stream",
     "text": [
      "[8 9]\n"
     ]
    }
   ],
   "source": [
    "print(arr[-3:-1])"
   ]
  },
  {
   "cell_type": "code",
   "execution_count": 38,
   "id": "1a929038",
   "metadata": {},
   "outputs": [
    {
     "name": "stdout",
     "output_type": "stream",
     "text": [
      "[1 3 5 7 9]\n"
     ]
    }
   ],
   "source": [
    "print(arr[::2])"
   ]
  },
  {
   "cell_type": "code",
   "execution_count": 40,
   "id": "07068352",
   "metadata": {},
   "outputs": [
    {
     "name": "stdout",
     "output_type": "stream",
     "text": [
      "[2 3 4]\n",
      "[2 3 4]\n"
     ]
    }
   ],
   "source": [
    "arr = np.array( [ [1,2,3,4,5], [6,7,8,9,10]])\n",
    "print(arr[0, 1:4])   # 2,3,4 OR 7,8,9,10 OR 7,8,9\n",
    "print(arr[0][1:4])"
   ]
  },
  {
   "cell_type": "code",
   "execution_count": 43,
   "id": "e95128ea",
   "metadata": {},
   "outputs": [
    {
     "name": "stdout",
     "output_type": "stream",
     "text": [
      "[[ 1  2  3  4  5]\n",
      " [ 6  7  8  9 10]]\n",
      "[[ 1  2  3  4  5]\n",
      " [ 6  7  8  9 10]]\n",
      "[3 8]\n"
     ]
    }
   ],
   "source": [
    "print(arr)\n",
    "print(arr[0:2])\n",
    "print(arr[0:2,2])     # arr[0:2][2]     prints 3,8"
   ]
  },
  {
   "cell_type": "code",
   "execution_count": 46,
   "id": "59e509a5",
   "metadata": {},
   "outputs": [
    {
     "name": "stdout",
     "output_type": "stream",
     "text": [
      "[[ 1  2  3  4  5]\n",
      " [ 6  7  8  9 10]]\n",
      "[[ 6  7  8  9 10]]\n"
     ]
    }
   ],
   "source": [
    "print(arr)\n",
    "print(arr[0:2][1:4])     # not preferred.\n"
   ]
  },
  {
   "cell_type": "code",
   "execution_count": 45,
   "id": "c15ae7bc",
   "metadata": {},
   "outputs": [
    {
     "name": "stdout",
     "output_type": "stream",
     "text": [
      "[[2 3 4]\n",
      " [7 8 9]]\n"
     ]
    }
   ],
   "source": [
    "print(arr[0:2,1:4])     # preferred."
   ]
  },
  {
   "cell_type": "code",
   "execution_count": 47,
   "id": "11d4340d",
   "metadata": {},
   "outputs": [
    {
     "name": "stdout",
     "output_type": "stream",
     "text": [
      "[1 2 3 4 5]\n",
      "[1 2 3 4 5]\n"
     ]
    }
   ],
   "source": [
    "arr = np.array([1,2,3,4,5])\n",
    "newArr = arr.copy()\n",
    "\n",
    "print(arr)\n",
    "print(newArr)"
   ]
  },
  {
   "cell_type": "code",
   "execution_count": 48,
   "id": "6cce0bd9",
   "metadata": {},
   "outputs": [
    {
     "name": "stdout",
     "output_type": "stream",
     "text": [
      "[76  2  3  4  5]\n",
      "[1 2 3 4 5]\n"
     ]
    }
   ],
   "source": [
    "arr[0] = 76\n",
    "print(arr)\n",
    "print(newArr)"
   ]
  },
  {
   "cell_type": "code",
   "execution_count": 49,
   "id": "cf91e450",
   "metadata": {},
   "outputs": [
    {
     "name": "stdout",
     "output_type": "stream",
     "text": [
      "[76  2  3  4  5]\n",
      "[ 1  2 50  4  5]\n"
     ]
    }
   ],
   "source": [
    "newArr[2] = 50\n",
    "print(arr)\n",
    "print(newArr)"
   ]
  },
  {
   "cell_type": "code",
   "execution_count": 50,
   "id": "52cbc5b3",
   "metadata": {},
   "outputs": [
    {
     "name": "stdout",
     "output_type": "stream",
     "text": [
      "[1 2 3 4 5]\n",
      "[1 2 3 4 5]\n"
     ]
    }
   ],
   "source": [
    "arr = np.array([1,2,3,4,5])\n",
    "newArr = arr.view()\n",
    "\n",
    "print(arr)\n",
    "print(newArr)"
   ]
  },
  {
   "cell_type": "code",
   "execution_count": 51,
   "id": "cb5b0639",
   "metadata": {},
   "outputs": [
    {
     "name": "stdout",
     "output_type": "stream",
     "text": [
      "[76  2  3  4  5]\n",
      "[76  2  3  4  5]\n"
     ]
    }
   ],
   "source": [
    "arr[0] = 76\n",
    "print(arr)\n",
    "print(newArr)"
   ]
  },
  {
   "cell_type": "code",
   "execution_count": 52,
   "id": "ce3d20ed",
   "metadata": {},
   "outputs": [
    {
     "name": "stdout",
     "output_type": "stream",
     "text": [
      "[76  2 50  4  5]\n",
      "[76  2 50  4  5]\n"
     ]
    }
   ],
   "source": [
    "newArr[2] = 50\n",
    "print(arr)\n",
    "print(newArr)"
   ]
  },
  {
   "cell_type": "code",
   "execution_count": 53,
   "id": "69aa5922",
   "metadata": {},
   "outputs": [
    {
     "name": "stdout",
     "output_type": "stream",
     "text": [
      "[1 2 3 4 5]\n",
      "[1 2 3 4 5]\n",
      "None\n",
      "[1 2 3 4 5]\n"
     ]
    }
   ],
   "source": [
    "arr = np.array([1,2,3,4,5])\n",
    "\n",
    "copyArr = arr.copy()\n",
    "viewArr = arr.view()\n",
    "\n",
    "print(copyArr)\n",
    "print(viewArr)\n",
    "\n",
    "# If it returns \"None\", it is a copy and owns the data.\n",
    "print(copyArr.base)    \n",
    "print(viewArr.base)\n"
   ]
  },
  {
   "cell_type": "code",
   "execution_count": 54,
   "id": "865d5a86",
   "metadata": {},
   "outputs": [
    {
     "name": "stdout",
     "output_type": "stream",
     "text": [
      "1\n",
      "2\n",
      "3\n",
      "4\n",
      "5\n"
     ]
    }
   ],
   "source": [
    "# Iterating.\n",
    "arr = np.array([1,2,3,4,5])\n",
    "for i in arr:\n",
    "    print(i)"
   ]
  },
  {
   "cell_type": "code",
   "execution_count": 55,
   "id": "ba3865d3",
   "metadata": {},
   "outputs": [
    {
     "name": "stdout",
     "output_type": "stream",
     "text": [
      "1\n",
      "2\n",
      "3\n",
      "4\n",
      "5\n",
      "6\n",
      "7\n",
      "8\n",
      "9\n",
      "10\n"
     ]
    }
   ],
   "source": [
    "arr = np.array([[1,2,3,4,5], [6,7,8,9,10]])\n",
    "for i in arr:\n",
    "    for j in i:\n",
    "        print(j)"
   ]
  },
  {
   "cell_type": "code",
   "execution_count": 56,
   "id": "919479d6",
   "metadata": {},
   "outputs": [
    {
     "name": "stdout",
     "output_type": "stream",
     "text": [
      "1\n",
      "2\n",
      "3\n",
      "4\n",
      "5\n",
      "6\n",
      "7\n",
      "8\n",
      "9\n",
      "10\n",
      "11\n",
      "12\n",
      "13\n",
      "14\n",
      "15\n"
     ]
    }
   ],
   "source": [
    "arr = np.array([[[1,2,3,4,5], [6,7,8,9,10], [11,12,13,14,15]]])\n",
    "for i in arr:\n",
    "    for j in i:\n",
    "        for k in j:\n",
    "            print(k)"
   ]
  },
  {
   "cell_type": "code",
   "execution_count": 57,
   "id": "f3b027d9",
   "metadata": {},
   "outputs": [
    {
     "name": "stdout",
     "output_type": "stream",
     "text": [
      "1\n",
      "2\n",
      "3\n",
      "4\n",
      "5\n",
      "6\n",
      "7\n",
      "8\n",
      "9\n",
      "10\n",
      "11\n",
      "12\n",
      "13\n",
      "14\n",
      "15\n"
     ]
    }
   ],
   "source": [
    "arr = np.array([[[1,2,3,4,5], [6,7,8,9,10], [11,12,13,14,15]]])\n",
    "for x in np.nditer(arr):\n",
    "    print(x)"
   ]
  },
  {
   "cell_type": "code",
   "execution_count": 58,
   "id": "e3c2b0d5",
   "metadata": {},
   "outputs": [
    {
     "name": "stdout",
     "output_type": "stream",
     "text": [
      "(0, 0, 0) 1\n",
      "(0, 0, 1) 2\n",
      "(0, 0, 2) 3\n",
      "(0, 0, 3) 4\n",
      "(0, 0, 4) 5\n",
      "(0, 1, 0) 6\n",
      "(0, 1, 1) 7\n",
      "(0, 1, 2) 8\n",
      "(0, 1, 3) 9\n",
      "(0, 1, 4) 10\n",
      "(0, 2, 0) 11\n",
      "(0, 2, 1) 12\n",
      "(0, 2, 2) 13\n",
      "(0, 2, 3) 14\n",
      "(0, 2, 4) 15\n"
     ]
    }
   ],
   "source": [
    "arr = np.array([[[1,2,3,4,5], [6,7,8,9,10], [11,12,13,14,15]]])\n",
    "for indx, x in np.ndenumerate(arr):\n",
    "    print(indx, x)"
   ]
  },
  {
   "cell_type": "code",
   "execution_count": 59,
   "id": "6f9c61cc",
   "metadata": {},
   "outputs": [
    {
     "name": "stdout",
     "output_type": "stream",
     "text": [
      "[1 2 3 4 5 6]\n"
     ]
    }
   ],
   "source": [
    "arr1 = np.array([1,2,3])\n",
    "arr2 = np.array([4,5,6])\n",
    "\n",
    "arr = np.concatenate((arr1, arr2))\n",
    "print(arr)"
   ]
  },
  {
   "cell_type": "code",
   "execution_count": 65,
   "id": "43044740",
   "metadata": {},
   "outputs": [
    {
     "name": "stdout",
     "output_type": "stream",
     "text": [
      "[[1 2]\n",
      " [3 4]\n",
      " [5 6]\n",
      " [7 8]]\n"
     ]
    }
   ],
   "source": [
    "arr1 = np.array([[1,2], [3,4]])\n",
    "arr2 = np.array([[5,6], [7,8]])\n",
    "\n",
    "arr = np.concatenate((arr1, arr2))\n",
    "print(arr)"
   ]
  },
  {
   "cell_type": "code",
   "execution_count": 66,
   "id": "cfc5fb81",
   "metadata": {},
   "outputs": [
    {
     "name": "stdout",
     "output_type": "stream",
     "text": [
      "[[1 2 5 6]\n",
      " [3 4 7 8]]\n"
     ]
    }
   ],
   "source": [
    "arr = np.concatenate((arr1, arr2), axis=1)\n",
    "print(arr)"
   ]
  },
  {
   "cell_type": "code",
   "execution_count": 69,
   "id": "240384b7",
   "metadata": {},
   "outputs": [
    {
     "name": "stdout",
     "output_type": "stream",
     "text": [
      "[[1 5]\n",
      " [2 6]\n",
      " [3 7]\n",
      " [4 8]]\n",
      "[['John' 'Michael']\n",
      " ['Joe' 'Max']\n",
      " ['Mary' 'Terry']]\n"
     ]
    }
   ],
   "source": [
    "arr1 = np.array([1,2,3,4])\n",
    "arr2 = np.array([5,6,7,8])\n",
    "\n",
    "arr = np.stack((arr1,arr2), axis=1)\n",
    "print(arr)\n",
    "\n",
    "names1 = np.array([\"John\", \"Joe\", \"Mary\"])\n",
    "names2 = np.array([\"Michael\", \"Max\", \"Terry\"])\n",
    "new_names = np.stack((names1,names2), axis=1)\n",
    "print(new_names)\n"
   ]
  },
  {
   "cell_type": "code",
   "execution_count": 70,
   "id": "2a41d097",
   "metadata": {},
   "outputs": [
    {
     "name": "stdout",
     "output_type": "stream",
     "text": [
      "[[1 2 3 4]\n",
      " [5 6 7 8]]\n"
     ]
    }
   ],
   "source": [
    "arr1 = np.array([1,2,3,4])\n",
    "arr2 = np.array([5,6,7,8])\n",
    "\n",
    "arr = np.stack((arr1,arr2))\n",
    "print(arr)"
   ]
  },
  {
   "cell_type": "code",
   "execution_count": 71,
   "id": "3e188248",
   "metadata": {},
   "outputs": [
    {
     "name": "stdout",
     "output_type": "stream",
     "text": [
      "[array([1, 2]), array([3, 4]), array([5, 6])]\n"
     ]
    }
   ],
   "source": [
    "arr1 = np.array([1,2,3,4,5,6])\n",
    "\n",
    "arr = np.array_split(arr1,3)\n",
    "print(arr)"
   ]
  },
  {
   "cell_type": "code",
   "execution_count": 72,
   "id": "133ce721",
   "metadata": {},
   "outputs": [
    {
     "name": "stdout",
     "output_type": "stream",
     "text": [
      "[array([1, 2, 3]), array([4, 5]), array([6, 7])]\n"
     ]
    }
   ],
   "source": [
    "arr1 = np.array([1,2,3,4,5,6,7])\n",
    "\n",
    "arr = np.array_split(arr1,3)\n",
    "print(arr)"
   ]
  },
  {
   "cell_type": "code",
   "execution_count": 73,
   "id": "ee3bc3e6",
   "metadata": {},
   "outputs": [
    {
     "name": "stdout",
     "output_type": "stream",
     "text": [
      "[array([1, 2]), array([3, 4]), array([5]), array([6])]\n"
     ]
    }
   ],
   "source": [
    "arr1 = np.array([1,2,3,4,5,6])\n",
    "\n",
    "arr = np.array_split(arr1,4)\n",
    "print(arr)"
   ]
  },
  {
   "cell_type": "code",
   "execution_count": 74,
   "id": "a9bf568a",
   "metadata": {},
   "outputs": [
    {
     "name": "stdout",
     "output_type": "stream",
     "text": [
      "[1 2]\n",
      "[3 4]\n",
      "[5]\n",
      "[6]\n"
     ]
    }
   ],
   "source": [
    "print(arr[0])\n",
    "print(arr[1])\n",
    "print(arr[2])\n",
    "print(arr[3])\n"
   ]
  },
  {
   "cell_type": "code",
   "execution_count": 75,
   "id": "de9460fa",
   "metadata": {},
   "outputs": [
    {
     "name": "stdout",
     "output_type": "stream",
     "text": [
      "[array([[1, 2],\n",
      "       [3, 4]]), array([[5, 6],\n",
      "       [7, 8]]), array([[ 9, 10]])]\n"
     ]
    }
   ],
   "source": [
    "arr1 = np.array([[1,2],[3,4], [5,6],[7,8], [9,10]])\n",
    "\n",
    "arr = np.array_split(arr1, 3)\n",
    "print(arr)"
   ]
  },
  {
   "cell_type": "code",
   "execution_count": 77,
   "id": "1d95431e",
   "metadata": {},
   "outputs": [
    {
     "name": "stdout",
     "output_type": "stream",
     "text": [
      "(array([3], dtype=int64),)\n",
      "<class 'tuple'>\n"
     ]
    }
   ],
   "source": [
    "arr = np.array([1,2,3,4,5,6,7])\n",
    "srch = np.where(arr == 4)\n",
    "print(srch)\n",
    "print(type(srch))"
   ]
  },
  {
   "cell_type": "code",
   "execution_count": 78,
   "id": "6b0ce1dd",
   "metadata": {},
   "outputs": [
    {
     "name": "stdout",
     "output_type": "stream",
     "text": [
      "(array([3, 5, 8], dtype=int64),)\n"
     ]
    }
   ],
   "source": [
    "arr = np.array([1,2,3,4,5,4,6,7,4])\n",
    "srch = np.where(arr == 4)\n",
    "print(srch)"
   ]
  },
  {
   "cell_type": "code",
   "execution_count": 79,
   "id": "77e583a4",
   "metadata": {},
   "outputs": [
    {
     "name": "stdout",
     "output_type": "stream",
     "text": [
      "[4 4 4]\n"
     ]
    }
   ],
   "source": [
    "print(arr[srch])"
   ]
  },
  {
   "cell_type": "code",
   "execution_count": 81,
   "id": "316633c3",
   "metadata": {},
   "outputs": [
    {
     "name": "stdout",
     "output_type": "stream",
     "text": [
      "(array([1, 3, 5, 7], dtype=int64),)\n",
      "[2 4 6 8]\n"
     ]
    }
   ],
   "source": [
    "arr = np.array([1,2,3,4,5,6,7,8])\n",
    "srch = np.where(arr % 2 == 0)\n",
    "print(srch)\n",
    "print(arr[srch])"
   ]
  },
  {
   "cell_type": "code",
   "execution_count": 82,
   "id": "2a7995ea",
   "metadata": {},
   "outputs": [
    {
     "name": "stdout",
     "output_type": "stream",
     "text": [
      "(array([0, 2, 4, 6], dtype=int64),)\n",
      "[1 3 5 7]\n"
     ]
    }
   ],
   "source": [
    "arr = np.array([1,2,3,4,5,6,7,8])\n",
    "srch = np.where(arr % 2 == 1)\n",
    "print(srch)\n",
    "print(arr[srch])"
   ]
  },
  {
   "cell_type": "code",
   "execution_count": 83,
   "id": "ba011d9f",
   "metadata": {},
   "outputs": [
    {
     "name": "stdout",
     "output_type": "stream",
     "text": [
      "2\n"
     ]
    }
   ],
   "source": [
    "arr = np.array([5,6,8,9])\n",
    "x = np.searchsorted(arr, 7)\n",
    "print(x)\n"
   ]
  },
  {
   "cell_type": "code",
   "execution_count": 84,
   "id": "00ca68fe",
   "metadata": {},
   "outputs": [
    {
     "name": "stdout",
     "output_type": "stream",
     "text": [
      "2\n"
     ]
    }
   ],
   "source": [
    "arr = np.array([8,6,9,5])\n",
    "x = np.searchsorted(arr, 7)\n",
    "print(x)\n"
   ]
  },
  {
   "cell_type": "code",
   "execution_count": 85,
   "id": "0c09643e",
   "metadata": {},
   "outputs": [
    {
     "name": "stdout",
     "output_type": "stream",
     "text": [
      "3\n"
     ]
    }
   ],
   "source": [
    "arr = np.array([4,5,6,8,9])\n",
    "x = np.searchsorted(arr, 7, side=\"right\")\n",
    "print(x)\n"
   ]
  },
  {
   "cell_type": "code",
   "execution_count": 86,
   "id": "dd2ffcc8",
   "metadata": {},
   "outputs": [
    {
     "name": "stdout",
     "output_type": "stream",
     "text": [
      "[1 2]\n"
     ]
    }
   ],
   "source": [
    "arr = np.array([1,3,5,7])\n",
    "x = np.searchsorted(arr, [2,4])\n",
    "print(x)\n"
   ]
  },
  {
   "cell_type": "code",
   "execution_count": 87,
   "id": "52701b10",
   "metadata": {},
   "outputs": [
    {
     "name": "stdout",
     "output_type": "stream",
     "text": [
      "[5 6 8 9]\n"
     ]
    }
   ],
   "source": [
    "arr1 = np.array([8,6,9,5])\n",
    "arr = np.sort(arr1)\n",
    "\n",
    "print(arr)"
   ]
  },
  {
   "cell_type": "code",
   "execution_count": 88,
   "id": "60ad8db4",
   "metadata": {},
   "outputs": [
    {
     "name": "stdout",
     "output_type": "stream",
     "text": [
      "['apple' 'banana' 'orange' 'strawberry']\n"
     ]
    }
   ],
   "source": [
    "arr1 = np.array([\"strawberry\", \"apple\", \"orange\", \"banana\",])\n",
    "arr = np.sort(arr1)\n",
    "\n",
    "print(arr)"
   ]
  },
  {
   "cell_type": "code",
   "execution_count": 89,
   "id": "2dbe1afc",
   "metadata": {},
   "outputs": [
    {
     "name": "stdout",
     "output_type": "stream",
     "text": [
      "[15 17]\n"
     ]
    }
   ],
   "source": [
    "arr1 = np.array([15,16,17,18])\n",
    "filter = [True, False, True, False]\n",
    "\n",
    "newArr = arr1[filter]\n",
    "print(newArr)"
   ]
  },
  {
   "cell_type": "code",
   "execution_count": 90,
   "id": "80dd0908",
   "metadata": {},
   "outputs": [
    {
     "name": "stdout",
     "output_type": "stream",
     "text": [
      "[15 18]\n"
     ]
    }
   ],
   "source": [
    "arr1 = np.array([15,16,17,18])\n",
    "filter = [True, False, False, True]\n",
    "\n",
    "newArr = arr1[filter]\n",
    "print(newArr)"
   ]
  },
  {
   "cell_type": "code",
   "execution_count": 91,
   "id": "535c8052",
   "metadata": {},
   "outputs": [
    {
     "name": "stdout",
     "output_type": "stream",
     "text": [
      "[15 18]\n"
     ]
    }
   ],
   "source": [
    "arr1 = np.array([15,16,17,18])\n",
    "filter = [True, False, False, True]\n",
    "\n",
    "newArr = arr1[filter]\n",
    "print(newArr)"
   ]
  },
  {
   "cell_type": "code",
   "execution_count": 92,
   "id": "2b0e839f",
   "metadata": {},
   "outputs": [
    {
     "name": "stdout",
     "output_type": "stream",
     "text": [
      "[False False False False  True  True]\n",
      "[19 20]\n"
     ]
    }
   ],
   "source": [
    "arr1 = np.array([15,16,17,18, 19, 20])\n",
    "filter = arr1 > 18\n",
    "\n",
    "newArr = arr1[filter]\n",
    "print(filter)\n",
    "print(newArr)"
   ]
  },
  {
   "cell_type": "code",
   "execution_count": 93,
   "id": "a4a09f50",
   "metadata": {},
   "outputs": [
    {
     "name": "stdout",
     "output_type": "stream",
     "text": [
      "[False  True False  True False  True]\n",
      "[16 18 20]\n"
     ]
    }
   ],
   "source": [
    "arr1 = np.array([15,16,17,18, 19, 20])\n",
    "filter = arr1 %2 == 0\n",
    "\n",
    "newArr = arr1[filter]\n",
    "print(filter)\n",
    "print(newArr)"
   ]
  },
  {
   "cell_type": "code",
   "execution_count": null,
   "id": "c9f76650",
   "metadata": {},
   "outputs": [],
   "source": []
  }
 ],
 "metadata": {
  "kernelspec": {
   "display_name": "Python 3",
   "language": "python",
   "name": "python3"
  },
  "language_info": {
   "codemirror_mode": {
    "name": "ipython",
    "version": 3
   },
   "file_extension": ".py",
   "mimetype": "text/x-python",
   "name": "python",
   "nbconvert_exporter": "python",
   "pygments_lexer": "ipython3",
   "version": "3.8.8"
  }
 },
 "nbformat": 4,
 "nbformat_minor": 5
}
